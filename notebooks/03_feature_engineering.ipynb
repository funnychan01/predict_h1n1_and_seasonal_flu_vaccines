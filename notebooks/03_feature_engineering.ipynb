{
 "cells": [
  {
   "cell_type": "code",
   "execution_count": 1,
   "id": "9ec4df6d-cd87-49b5-bbb9-4f0e56182c8d",
   "metadata": {},
   "outputs": [],
   "source": [
    "import pandas as pd"
   ]
  },
  {
   "cell_type": "code",
   "execution_count": 4,
   "id": "2096238f-1816-49a1-af2b-79cd69930594",
   "metadata": {},
   "outputs": [],
   "source": [
    "processed_data_path = \"/Users/jackie/Documents/data_science/projects/predict_h1n1_and_seasonal_flu_vaccines/data/processed/\"\n",
    "processed_file_name = \"processed_trainset.csv\"\n",
    "train_set = pd.read_csv(processed_data_path+processed_file_name)"
   ]
  },
  {
   "cell_type": "code",
   "execution_count": 8,
   "id": "21fcfd31-e617-4897-ace7-c06ad191d0c6",
   "metadata": {},
   "outputs": [
    {
     "name": "stdout",
     "output_type": "stream",
     "text": [
      "<class 'pandas.core.frame.DataFrame'>\n",
      "RangeIndex: 26707 entries, 0 to 26706\n",
      "Data columns (total 36 columns):\n",
      " #   Column                       Non-Null Count  Dtype  \n",
      "---  ------                       --------------  -----  \n",
      " 0   respondent_id                26707 non-null  int64  \n",
      " 1   h1n1_concern                 26707 non-null  float64\n",
      " 2   h1n1_knowledge               26707 non-null  float64\n",
      " 3   behavioral_antiviral_meds    26707 non-null  float64\n",
      " 4   behavioral_avoidance         26707 non-null  float64\n",
      " 5   behavioral_face_mask         26707 non-null  float64\n",
      " 6   behavioral_wash_hands        26707 non-null  float64\n",
      " 7   behavioral_large_gatherings  26707 non-null  float64\n",
      " 8   behavioral_outside_home      26707 non-null  float64\n",
      " 9   behavioral_touch_face        26707 non-null  float64\n",
      " 10  doctor_recc_h1n1             26707 non-null  float64\n",
      " 11  doctor_recc_seasonal         26707 non-null  float64\n",
      " 12  chronic_med_condition        26707 non-null  float64\n",
      " 13  child_under_6_months         26707 non-null  float64\n",
      " 14  health_worker                26707 non-null  float64\n",
      " 15  health_insurance             26707 non-null  float64\n",
      " 16  opinion_h1n1_vacc_effective  26707 non-null  float64\n",
      " 17  opinion_h1n1_risk            26707 non-null  float64\n",
      " 18  opinion_h1n1_sick_from_vacc  26707 non-null  float64\n",
      " 19  opinion_seas_vacc_effective  26707 non-null  float64\n",
      " 20  opinion_seas_risk            26707 non-null  float64\n",
      " 21  opinion_seas_sick_from_vacc  26707 non-null  float64\n",
      " 22  age_group                    26707 non-null  object \n",
      " 23  education                    26707 non-null  object \n",
      " 24  race                         26707 non-null  object \n",
      " 25  sex                          26707 non-null  object \n",
      " 26  income_poverty               26707 non-null  object \n",
      " 27  marital_status               26707 non-null  object \n",
      " 28  rent_or_own                  26707 non-null  object \n",
      " 29  employment_status            26707 non-null  object \n",
      " 30  hhs_geo_region               26707 non-null  object \n",
      " 31  census_msa                   26707 non-null  object \n",
      " 32  household_adults             26707 non-null  float64\n",
      " 33  household_children           26707 non-null  float64\n",
      " 34  employment_industry          26707 non-null  object \n",
      " 35  employment_occupation        26707 non-null  object \n",
      "dtypes: float64(23), int64(1), object(12)\n",
      "memory usage: 7.3+ MB\n"
     ]
    }
   ],
   "source": [
    "train_set.info()"
   ]
  },
  {
   "cell_type": "code",
   "execution_count": 10,
   "id": "d44df48e-d4c7-4baa-b569-1c72b9157492",
   "metadata": {},
   "outputs": [
    {
     "name": "stdout",
     "output_type": "stream",
     "text": [
      "age_group is object or string\n",
      "education is object or string\n",
      "race is object or string\n",
      "sex is object or string\n",
      "income_poverty is object or string\n",
      "marital_status is object or string\n",
      "rent_or_own is object or string\n",
      "employment_status is object or string\n",
      "hhs_geo_region is object or string\n",
      "census_msa is object or string\n",
      "employment_industry is object or string\n",
      "employment_occupation is object or string\n"
     ]
    }
   ],
   "source": [
    "object_column = []\n",
    "for column in list(train_set.columns):\n",
    "    if train_set[column].dtype == 'object' or train_set[column].dtype == 'string':\n",
    "        print(f'{column} is object or string')\n",
    "        object_column.append(column)\n",
    "    else:\n",
    "        pass"
   ]
  },
  {
   "cell_type": "code",
   "execution_count": 13,
   "id": "99769b4b-0071-4d03-9eba-92d93765f7f1",
   "metadata": {},
   "outputs": [
    {
     "name": "stdout",
     "output_type": "stream",
     "text": [
      "<class 'pandas.core.frame.DataFrame'>\n",
      "RangeIndex: 26707 entries, 0 to 26706\n",
      "Data columns (total 12 columns):\n",
      " #   Column                 Non-Null Count  Dtype \n",
      "---  ------                 --------------  ----- \n",
      " 0   age_group              26707 non-null  object\n",
      " 1   education              26707 non-null  object\n",
      " 2   race                   26707 non-null  object\n",
      " 3   sex                    26707 non-null  object\n",
      " 4   income_poverty         26707 non-null  object\n",
      " 5   marital_status         26707 non-null  object\n",
      " 6   rent_or_own            26707 non-null  object\n",
      " 7   employment_status      26707 non-null  object\n",
      " 8   hhs_geo_region         26707 non-null  object\n",
      " 9   census_msa             26707 non-null  object\n",
      " 10  employment_industry    26707 non-null  object\n",
      " 11  employment_occupation  26707 non-null  object\n",
      "dtypes: object(12)\n",
      "memory usage: 2.4+ MB\n"
     ]
    }
   ],
   "source": [
    "train_set[object_column].info()"
   ]
  },
  {
   "cell_type": "code",
   "execution_count": 14,
   "id": "e1b6a66a-cbf3-4262-a1e9-97158dbda77d",
   "metadata": {},
   "outputs": [],
   "source": [
    "train_set = pd.get_dummies(train_set, columns=object_column)"
   ]
  },
  {
   "cell_type": "code",
   "execution_count": 19,
   "id": "8b6fc624-eabf-4d65-91a5-a0990bfb75f0",
   "metadata": {},
   "outputs": [
    {
     "data": {
      "text/html": [
       "<div>\n",
       "<style scoped>\n",
       "    .dataframe tbody tr th:only-of-type {\n",
       "        vertical-align: middle;\n",
       "    }\n",
       "\n",
       "    .dataframe tbody tr th {\n",
       "        vertical-align: top;\n",
       "    }\n",
       "\n",
       "    .dataframe thead th {\n",
       "        text-align: right;\n",
       "    }\n",
       "</style>\n",
       "<table border=\"1\" class=\"dataframe\">\n",
       "  <thead>\n",
       "    <tr style=\"text-align: right;\">\n",
       "      <th></th>\n",
       "      <th>respondent_id</th>\n",
       "      <th>h1n1_concern</th>\n",
       "      <th>h1n1_knowledge</th>\n",
       "      <th>behavioral_antiviral_meds</th>\n",
       "      <th>behavioral_avoidance</th>\n",
       "      <th>behavioral_face_mask</th>\n",
       "      <th>behavioral_wash_hands</th>\n",
       "      <th>behavioral_large_gatherings</th>\n",
       "      <th>behavioral_outside_home</th>\n",
       "      <th>behavioral_touch_face</th>\n",
       "      <th>...</th>\n",
       "      <th>employment_occupation_qxajmpny</th>\n",
       "      <th>employment_occupation_rcertsgn</th>\n",
       "      <th>employment_occupation_tfqavkke</th>\n",
       "      <th>employment_occupation_ukymxvdu</th>\n",
       "      <th>employment_occupation_uqqtjvyb</th>\n",
       "      <th>employment_occupation_vlluhbov</th>\n",
       "      <th>employment_occupation_xgwztkwe</th>\n",
       "      <th>employment_occupation_xqwwgdyp</th>\n",
       "      <th>employment_occupation_xtkaffoo</th>\n",
       "      <th>employment_occupation_xzmlyyjv</th>\n",
       "    </tr>\n",
       "  </thead>\n",
       "  <tbody>\n",
       "    <tr>\n",
       "      <th>26702</th>\n",
       "      <td>26702</td>\n",
       "      <td>2.0</td>\n",
       "      <td>0.0</td>\n",
       "      <td>0.0</td>\n",
       "      <td>1.0</td>\n",
       "      <td>0.0</td>\n",
       "      <td>0.0</td>\n",
       "      <td>0.0</td>\n",
       "      <td>1.0</td>\n",
       "      <td>0.000000</td>\n",
       "      <td>...</td>\n",
       "      <td>False</td>\n",
       "      <td>False</td>\n",
       "      <td>False</td>\n",
       "      <td>False</td>\n",
       "      <td>False</td>\n",
       "      <td>False</td>\n",
       "      <td>False</td>\n",
       "      <td>False</td>\n",
       "      <td>False</td>\n",
       "      <td>False</td>\n",
       "    </tr>\n",
       "    <tr>\n",
       "      <th>26703</th>\n",
       "      <td>26703</td>\n",
       "      <td>1.0</td>\n",
       "      <td>2.0</td>\n",
       "      <td>0.0</td>\n",
       "      <td>1.0</td>\n",
       "      <td>0.0</td>\n",
       "      <td>1.0</td>\n",
       "      <td>0.0</td>\n",
       "      <td>0.0</td>\n",
       "      <td>0.000000</td>\n",
       "      <td>...</td>\n",
       "      <td>False</td>\n",
       "      <td>False</td>\n",
       "      <td>False</td>\n",
       "      <td>False</td>\n",
       "      <td>False</td>\n",
       "      <td>False</td>\n",
       "      <td>False</td>\n",
       "      <td>False</td>\n",
       "      <td>False</td>\n",
       "      <td>False</td>\n",
       "    </tr>\n",
       "    <tr>\n",
       "      <th>26704</th>\n",
       "      <td>26704</td>\n",
       "      <td>2.0</td>\n",
       "      <td>2.0</td>\n",
       "      <td>0.0</td>\n",
       "      <td>1.0</td>\n",
       "      <td>1.0</td>\n",
       "      <td>1.0</td>\n",
       "      <td>1.0</td>\n",
       "      <td>0.0</td>\n",
       "      <td>1.000000</td>\n",
       "      <td>...</td>\n",
       "      <td>False</td>\n",
       "      <td>False</td>\n",
       "      <td>False</td>\n",
       "      <td>False</td>\n",
       "      <td>False</td>\n",
       "      <td>False</td>\n",
       "      <td>False</td>\n",
       "      <td>False</td>\n",
       "      <td>False</td>\n",
       "      <td>False</td>\n",
       "    </tr>\n",
       "    <tr>\n",
       "      <th>26705</th>\n",
       "      <td>26705</td>\n",
       "      <td>1.0</td>\n",
       "      <td>1.0</td>\n",
       "      <td>0.0</td>\n",
       "      <td>0.0</td>\n",
       "      <td>0.0</td>\n",
       "      <td>0.0</td>\n",
       "      <td>0.0</td>\n",
       "      <td>0.0</td>\n",
       "      <td>0.677264</td>\n",
       "      <td>...</td>\n",
       "      <td>False</td>\n",
       "      <td>False</td>\n",
       "      <td>False</td>\n",
       "      <td>False</td>\n",
       "      <td>False</td>\n",
       "      <td>False</td>\n",
       "      <td>False</td>\n",
       "      <td>False</td>\n",
       "      <td>False</td>\n",
       "      <td>False</td>\n",
       "    </tr>\n",
       "    <tr>\n",
       "      <th>26706</th>\n",
       "      <td>26706</td>\n",
       "      <td>0.0</td>\n",
       "      <td>0.0</td>\n",
       "      <td>0.0</td>\n",
       "      <td>1.0</td>\n",
       "      <td>0.0</td>\n",
       "      <td>0.0</td>\n",
       "      <td>0.0</td>\n",
       "      <td>0.0</td>\n",
       "      <td>0.000000</td>\n",
       "      <td>...</td>\n",
       "      <td>False</td>\n",
       "      <td>False</td>\n",
       "      <td>False</td>\n",
       "      <td>False</td>\n",
       "      <td>False</td>\n",
       "      <td>False</td>\n",
       "      <td>False</td>\n",
       "      <td>False</td>\n",
       "      <td>False</td>\n",
       "      <td>False</td>\n",
       "    </tr>\n",
       "  </tbody>\n",
       "</table>\n",
       "<p>5 rows × 113 columns</p>\n",
       "</div>"
      ],
      "text/plain": [
       "       respondent_id  h1n1_concern  h1n1_knowledge  behavioral_antiviral_meds  \\\n",
       "26702          26702           2.0             0.0                        0.0   \n",
       "26703          26703           1.0             2.0                        0.0   \n",
       "26704          26704           2.0             2.0                        0.0   \n",
       "26705          26705           1.0             1.0                        0.0   \n",
       "26706          26706           0.0             0.0                        0.0   \n",
       "\n",
       "       behavioral_avoidance  behavioral_face_mask  behavioral_wash_hands  \\\n",
       "26702                   1.0                   0.0                    0.0   \n",
       "26703                   1.0                   0.0                    1.0   \n",
       "26704                   1.0                   1.0                    1.0   \n",
       "26705                   0.0                   0.0                    0.0   \n",
       "26706                   1.0                   0.0                    0.0   \n",
       "\n",
       "       behavioral_large_gatherings  behavioral_outside_home  \\\n",
       "26702                          0.0                      1.0   \n",
       "26703                          0.0                      0.0   \n",
       "26704                          1.0                      0.0   \n",
       "26705                          0.0                      0.0   \n",
       "26706                          0.0                      0.0   \n",
       "\n",
       "       behavioral_touch_face  ...  employment_occupation_qxajmpny  \\\n",
       "26702               0.000000  ...                           False   \n",
       "26703               0.000000  ...                           False   \n",
       "26704               1.000000  ...                           False   \n",
       "26705               0.677264  ...                           False   \n",
       "26706               0.000000  ...                           False   \n",
       "\n",
       "       employment_occupation_rcertsgn  employment_occupation_tfqavkke  \\\n",
       "26702                           False                           False   \n",
       "26703                           False                           False   \n",
       "26704                           False                           False   \n",
       "26705                           False                           False   \n",
       "26706                           False                           False   \n",
       "\n",
       "       employment_occupation_ukymxvdu  employment_occupation_uqqtjvyb  \\\n",
       "26702                           False                           False   \n",
       "26703                           False                           False   \n",
       "26704                           False                           False   \n",
       "26705                           False                           False   \n",
       "26706                           False                           False   \n",
       "\n",
       "       employment_occupation_vlluhbov  employment_occupation_xgwztkwe  \\\n",
       "26702                           False                           False   \n",
       "26703                           False                           False   \n",
       "26704                           False                           False   \n",
       "26705                           False                           False   \n",
       "26706                           False                           False   \n",
       "\n",
       "       employment_occupation_xqwwgdyp  employment_occupation_xtkaffoo  \\\n",
       "26702                           False                           False   \n",
       "26703                           False                           False   \n",
       "26704                           False                           False   \n",
       "26705                           False                           False   \n",
       "26706                           False                           False   \n",
       "\n",
       "       employment_occupation_xzmlyyjv  \n",
       "26702                           False  \n",
       "26703                           False  \n",
       "26704                           False  \n",
       "26705                           False  \n",
       "26706                           False  \n",
       "\n",
       "[5 rows x 113 columns]"
      ]
     },
     "execution_count": 19,
     "metadata": {},
     "output_type": "execute_result"
    }
   ],
   "source": [
    "train_set.tail()"
   ]
  },
  {
   "cell_type": "code",
   "execution_count": 20,
   "id": "299253a1-0b2d-4738-8c61-a7cb4b0ab287",
   "metadata": {},
   "outputs": [],
   "source": [
    "processed_data_path = \"/Users/jackie/Documents/data_science/projects/predict_h1n1_and_seasonal_flu_vaccines/data/processed/\"\n",
    "processed_file_name = \"processed_trainset.csv\""
   ]
  },
  {
   "cell_type": "code",
   "execution_count": 22,
   "id": "ff7d3684-6a51-4b55-9ecb-b1e1c8ca0638",
   "metadata": {},
   "outputs": [],
   "source": [
    "train_set.to_csv(processed_data_path+processed_file_name, index=False)"
   ]
  },
  {
   "cell_type": "code",
   "execution_count": 28,
   "id": "97d07bfe-c7d5-459c-8dc7-60c3a7bb025a",
   "metadata": {},
   "outputs": [],
   "source": [
    "raw_data_path = \"/Users/jackie/Documents/data_science/projects/predict_h1n1_and_seasonal_flu_vaccines/data/raw/\"\n",
    "test_file_name = \"Flu_Shot_Learning_Predict_H1N1_and_Seasonal_Flu_Vaccines_-_Test_Features.csv\"\n",
    "test_set = pd.read_csv(raw_data_path+test_file_name)"
   ]
  },
  {
   "cell_type": "code",
   "execution_count": 24,
   "id": "95b27bd3-62a6-4258-ac7d-b2e0cb2828f9",
   "metadata": {},
   "outputs": [],
   "source": [
    "test_set = pd.get_dummies(test_set, columns=object_column)"
   ]
  },
  {
   "cell_type": "code",
   "execution_count": 25,
   "id": "ddfe4540-a4ba-4030-a396-e5c6b7480865",
   "metadata": {},
   "outputs": [],
   "source": [
    "processed_data_path = \"/Users/jackie/Documents/data_science/projects/predict_h1n1_and_seasonal_flu_vaccines/data/processed/\"\n",
    "processed_test_file_name = \"processed_testset.csv\""
   ]
  },
  {
   "cell_type": "code",
   "execution_count": 26,
   "id": "71a09d85-7b81-4a86-9e35-43f24484df85",
   "metadata": {},
   "outputs": [],
   "source": [
    "test_set.to_csv(processed_data_path+processed_test_file_name, index=False)"
   ]
  },
  {
   "cell_type": "code",
   "execution_count": 29,
   "id": "1656d003-a26c-44d7-bb4c-1068d1cef6a8",
   "metadata": {},
   "outputs": [
    {
     "data": {
      "text/plain": [
       "(26708, 36)"
      ]
     },
     "execution_count": 29,
     "metadata": {},
     "output_type": "execute_result"
    }
   ],
   "source": [
    "test_set.shape"
   ]
  },
  {
   "cell_type": "code",
   "execution_count": null,
   "id": "9344721b-63d5-41a8-a468-782288fd0281",
   "metadata": {},
   "outputs": [],
   "source": []
  }
 ],
 "metadata": {
  "kernelspec": {
   "display_name": "Python 3 (ipykernel)",
   "language": "python",
   "name": "python3"
  },
  "language_info": {
   "codemirror_mode": {
    "name": "ipython",
    "version": 3
   },
   "file_extension": ".py",
   "mimetype": "text/x-python",
   "name": "python",
   "nbconvert_exporter": "python",
   "pygments_lexer": "ipython3",
   "version": "3.13.2"
  }
 },
 "nbformat": 4,
 "nbformat_minor": 5
}
