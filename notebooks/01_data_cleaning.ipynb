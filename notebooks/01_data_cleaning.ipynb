{
 "cells": [
  {
   "cell_type": "code",
   "execution_count": null,
   "id": "4621631d-60de-4a9c-8b73-96b74dc6ab5a",
   "metadata": {},
   "outputs": [],
   "source": [
    "# Improve Data Quality: \n",
    "#   - Address inaccuracies, inconsistencies, and missing values.\n",
    "# Prepare Data for Analysis: \n",
    "#   - Transform data into a suitable format for modeling and visualization.\n",
    "# Reduce Noise: \n",
    "#   - Minimize the impact of irrelevant or redundant information.\n",
    "# Enhance Model Performance: \n",
    "#   - Improve the accuracy, efficiency, and generalization ability of machine learning models."
   ]
  },
  {
   "cell_type": "code",
   "execution_count": 3,
   "id": "4a12b212-36b9-4bd8-a70f-d097bda1ab1f",
   "metadata": {},
   "outputs": [],
   "source": [
    "## Data Inspection & Understanding"
   ]
  },
  {
   "cell_type": "code",
   "execution_count": 17,
   "id": "543dc2fc-6a72-4a24-a87a-c61c5c1e6f3c",
   "metadata": {},
   "outputs": [],
   "source": [
    "import pandas as pd\n",
    "import numpy as np\n",
    "import os\n",
    "\n",
    "from sklearn.impute import SimpleImputer\n",
    "from sklearn.compose import ColumnTransformer\n",
    "from sklearn.preprocessing import OneHotEncoder"
   ]
  },
  {
   "cell_type": "code",
   "execution_count": 45,
   "id": "9c63f478-842d-4b4c-95ce-14309483cc38",
   "metadata": {},
   "outputs": [],
   "source": [
    "# Import the raw data of training features and labels\n",
    "data_features = pd.read_csv(\"/Users/jackie/Documents/data_science/projects/predict_h1n1_and_seasonal_flu_vaccines/data/raw/Flu_Shot_Learning_Predict_H1N1_and_Seasonal_Flu_Vaccines_-_Training_Features.csv\")\n",
    "data_labels = pd.read_csv(\"/Users/jackie/Documents/data_science/projects/predict_h1n1_and_seasonal_flu_vaccines/data/raw/Flu_Shot_Learning_Predict_H1N1_and_Seasonal_Flu_Vaccines_-_Training_Labels.csv\")"
   ]
  },
  {
   "cell_type": "code",
   "execution_count": 13,
   "id": "75cd9bb7-cb48-4602-a1db-366b7cc9c3c5",
   "metadata": {},
   "outputs": [],
   "source": [
    "# According to the foundings based on EDA\n",
    "# For columns having siginifiant count of missing values, a new category of NA will be imputed\n",
    "columns_with_new_category = ['health_insurance', 'income_poverty', 'employment_industry', 'employment_occupation']"
   ]
  },
  {
   "cell_type": "code",
   "execution_count": 46,
   "id": "1d0bd828-6634-4ce1-a5a9-c806b71ce2b1",
   "metadata": {
    "collapsed": true,
    "jupyter": {
     "outputs_hidden": true
    },
    "scrolled": true
   },
   "outputs": [
    {
     "data": {
      "text/plain": [
       "health_insurance         12274\n",
       "income_poverty            4423\n",
       "employment_industry      13330\n",
       "employment_occupation    13470\n",
       "dtype: int64"
      ]
     },
     "execution_count": 46,
     "metadata": {},
     "output_type": "execute_result"
    }
   ],
   "source": [
    "# Before fillna()\n",
    "data_features[columns_with_new_category].isnull().sum()"
   ]
  },
  {
   "cell_type": "code",
   "execution_count": 47,
   "id": "cff730a0-18a2-4e81-9a8e-00d00c8eea8a",
   "metadata": {
    "collapsed": true,
    "jupyter": {
     "outputs_hidden": true
    },
    "scrolled": true
   },
   "outputs": [
    {
     "data": {
      "text/plain": [
       "health_insurance         0\n",
       "income_poverty           0\n",
       "employment_industry      0\n",
       "employment_occupation    0\n",
       "dtype: int64"
      ]
     },
     "execution_count": 47,
     "metadata": {},
     "output_type": "execute_result"
    }
   ],
   "source": [
    "# After fillna()\n",
    "data_features[columns_with_new_category] = data_features[columns_with_new_category].fillna('NA')\n",
    "\n",
    "data_features[columns_with_new_category].isnull().sum()"
   ]
  },
  {
   "cell_type": "code",
   "execution_count": 48,
   "id": "e262f08e-6d08-474e-ada9-f7ae89a9fe2c",
   "metadata": {},
   "outputs": [],
   "source": [
    "# Each categorical column, find the most frequent category, do fillna() with that category\n",
    "categorical_col = data_features.select_dtypes(include='object').columns\n",
    "data_features_cat_gp = data_features[categorical_col].describe().reset_index()\n",
    "\n",
    "for col in categorical_col:\n",
    "    data_features[col] = data_features[col].fillna(data_features_cat_gp.loc[2, col])"
   ]
  },
  {
   "cell_type": "code",
   "execution_count": 49,
   "id": "b903dd48-e789-4472-b34b-947a421e5aae",
   "metadata": {
    "collapsed": true,
    "jupyter": {
     "outputs_hidden": true
    },
    "scrolled": true
   },
   "outputs": [
    {
     "data": {
      "text/plain": [
       "health_insurance         0\n",
       "age_group                0\n",
       "education                0\n",
       "race                     0\n",
       "sex                      0\n",
       "income_poverty           0\n",
       "marital_status           0\n",
       "rent_or_own              0\n",
       "employment_status        0\n",
       "hhs_geo_region           0\n",
       "census_msa               0\n",
       "employment_industry      0\n",
       "employment_occupation    0\n",
       "dtype: int64"
      ]
     },
     "execution_count": 49,
     "metadata": {},
     "output_type": "execute_result"
    }
   ],
   "source": [
    "# After handling the missing values of categorical columns\n",
    "data_features[categorical_col].isnull().sum()"
   ]
  },
  {
   "cell_type": "code",
   "execution_count": 50,
   "id": "838926ac-b4d9-4782-a75a-9c5f097df088",
   "metadata": {},
   "outputs": [
    {
     "name": "stdout",
     "output_type": "stream",
     "text": [
      "<class 'pandas.core.frame.DataFrame'>\n",
      "RangeIndex: 26707 entries, 0 to 26706\n",
      "Data columns (total 36 columns):\n",
      " #   Column                       Non-Null Count  Dtype  \n",
      "---  ------                       --------------  -----  \n",
      " 0   respondent_id                26707 non-null  int64  \n",
      " 1   h1n1_concern                 26615 non-null  float64\n",
      " 2   h1n1_knowledge               26591 non-null  float64\n",
      " 3   behavioral_antiviral_meds    26636 non-null  float64\n",
      " 4   behavioral_avoidance         26499 non-null  float64\n",
      " 5   behavioral_face_mask         26688 non-null  float64\n",
      " 6   behavioral_wash_hands        26665 non-null  float64\n",
      " 7   behavioral_large_gatherings  26620 non-null  float64\n",
      " 8   behavioral_outside_home      26625 non-null  float64\n",
      " 9   behavioral_touch_face        26579 non-null  float64\n",
      " 10  doctor_recc_h1n1             24547 non-null  float64\n",
      " 11  doctor_recc_seasonal         24547 non-null  float64\n",
      " 12  chronic_med_condition        25736 non-null  float64\n",
      " 13  child_under_6_months         25887 non-null  float64\n",
      " 14  health_worker                25903 non-null  float64\n",
      " 15  health_insurance             26707 non-null  object \n",
      " 16  opinion_h1n1_vacc_effective  26316 non-null  float64\n",
      " 17  opinion_h1n1_risk            26319 non-null  float64\n",
      " 18  opinion_h1n1_sick_from_vacc  26312 non-null  float64\n",
      " 19  opinion_seas_vacc_effective  26245 non-null  float64\n",
      " 20  opinion_seas_risk            26193 non-null  float64\n",
      " 21  opinion_seas_sick_from_vacc  26170 non-null  float64\n",
      " 22  age_group                    26707 non-null  object \n",
      " 23  education                    26707 non-null  object \n",
      " 24  race                         26707 non-null  object \n",
      " 25  sex                          26707 non-null  object \n",
      " 26  income_poverty               26707 non-null  object \n",
      " 27  marital_status               26707 non-null  object \n",
      " 28  rent_or_own                  26707 non-null  object \n",
      " 29  employment_status            26707 non-null  object \n",
      " 30  hhs_geo_region               26707 non-null  object \n",
      " 31  census_msa                   26707 non-null  object \n",
      " 32  household_adults             26458 non-null  float64\n",
      " 33  household_children           26458 non-null  float64\n",
      " 34  employment_industry          26707 non-null  object \n",
      " 35  employment_occupation        26707 non-null  object \n",
      "dtypes: float64(22), int64(1), object(13)\n",
      "memory usage: 7.3+ MB\n"
     ]
    }
   ],
   "source": [
    "data_features.info()"
   ]
  },
  {
   "cell_type": "code",
   "execution_count": 35,
   "id": "daac0ea6-9652-422a-b7de-76f890f7f3b2",
   "metadata": {},
   "outputs": [],
   "source": [
    "# Encoding categorical data\n",
    "# Encoding the Independent Variable\n",
    "ct = ColumnTransformer(transformers=[('encoder', OneHotEncoder(), [0])], remainder='passthrough')\n",
    "X = np.array(ct.fit_transform(X))"
   ]
  },
  {
   "cell_type": "code",
   "execution_count": 36,
   "id": "585afef6-832a-4b24-b53a-0f4bdc1cc3fc",
   "metadata": {},
   "outputs": [
    {
     "data": {
      "text/plain": [
       "health_insurance         0\n",
       "age_group                0\n",
       "education                0\n",
       "race                     0\n",
       "sex                      0\n",
       "income_poverty           0\n",
       "marital_status           0\n",
       "rent_or_own              0\n",
       "employment_status        0\n",
       "hhs_geo_region           0\n",
       "census_msa               0\n",
       "employment_industry      0\n",
       "employment_occupation    0\n",
       "dtype: int64"
      ]
     },
     "execution_count": 36,
     "metadata": {},
     "output_type": "execute_result"
    }
   ],
   "source": []
  },
  {
   "cell_type": "code",
   "execution_count": 43,
   "id": "dc4f8eb8-69da-419e-89db-78fe3afe552b",
   "metadata": {},
   "outputs": [],
   "source": [
    "# Taking care of missing data\n",
    "imputer = SimpleImputer(missing_values=np.nan, strategy='most_frequent')\n",
    "imputer.fit(data_features)\n",
    "data_features = imputer.transform(data_features)"
   ]
  },
  {
   "cell_type": "code",
   "execution_count": 44,
   "id": "5ecb2bb7-9193-417d-8161-aa259f505335",
   "metadata": {},
   "outputs": [
    {
     "ename": "AttributeError",
     "evalue": "'numpy.ndarray' object has no attribute 'isnull'",
     "output_type": "error",
     "traceback": [
      "\u001b[0;31m---------------------------------------------------------------------------\u001b[0m",
      "\u001b[0;31mAttributeError\u001b[0m                            Traceback (most recent call last)",
      "Cell \u001b[0;32mIn[44], line 1\u001b[0m\n\u001b[0;32m----> 1\u001b[0m data_features\u001b[38;5;241m.\u001b[39misnull()\u001b[38;5;241m.\u001b[39msum()\n",
      "\u001b[0;31mAttributeError\u001b[0m: 'numpy.ndarray' object has no attribute 'isnull'"
     ]
    }
   ],
   "source": [
    "data_features.isnull().sum()"
   ]
  },
  {
   "cell_type": "code",
   "execution_count": 37,
   "id": "69aa1d81-628c-4db4-b768-a862e7c42721",
   "metadata": {},
   "outputs": [],
   "source": [
    "# Convert pandas dataframe into numpy array and exclude the column 'respondent_id'\n",
    "X = data_features.iloc[:, 1:].values\n",
    "y = data_labels.iloc[:, 1:].values"
   ]
  },
  {
   "cell_type": "code",
   "execution_count": 38,
   "id": "cafcee06-c725-415a-a080-6637f25e8ff2",
   "metadata": {},
   "outputs": [
    {
     "data": {
      "text/plain": [
       "(26707, 35)"
      ]
     },
     "execution_count": 38,
     "metadata": {},
     "output_type": "execute_result"
    }
   ],
   "source": [
    "X.shape"
   ]
  },
  {
   "cell_type": "code",
   "execution_count": 39,
   "id": "94b53256-e97c-47c0-b84c-cfb4f080b704",
   "metadata": {},
   "outputs": [],
   "source": []
  },
  {
   "cell_type": "code",
   "execution_count": 41,
   "id": "d45b9b7b-0966-4504-93a5-e0960de0a8e4",
   "metadata": {},
   "outputs": [
    {
     "name": "stdout",
     "output_type": "stream",
     "text": [
      "[[1.0 0.0 0.0 ... 0.0 'NA' 'NA']\n",
      " [3.0 2.0 0.0 ... 0.0 'pxcmvdjn' 'xgwztkwe']\n",
      " [1.0 1.0 0.0 ... 0.0 'rucpziij' 'xtkaffoo']\n",
      " ...\n",
      " [2.0 2.0 0.0 ... 0.0 'NA' 'NA']\n",
      " [1.0 1.0 0.0 ... 0.0 'fcxhlnwr' 'haliazsg']\n",
      " [0.0 0.0 0.0 ... 0.0 'NA' 'NA']]\n"
     ]
    }
   ],
   "source": [
    "print(X)"
   ]
  },
  {
   "cell_type": "code",
   "execution_count": 42,
   "id": "dac4c87c-6017-4c86-b145-48938a000fb2",
   "metadata": {},
   "outputs": [
    {
     "data": {
      "text/plain": [
       "(26707, 35)"
      ]
     },
     "execution_count": 42,
     "metadata": {},
     "output_type": "execute_result"
    }
   ],
   "source": [
    "X.shape"
   ]
  },
  {
   "cell_type": "code",
   "execution_count": null,
   "id": "8709144c-5427-4da0-90a6-4dbe2d7e353f",
   "metadata": {},
   "outputs": [],
   "source": []
  }
 ],
 "metadata": {
  "kernelspec": {
   "display_name": "Python 3 (ipykernel)",
   "language": "python",
   "name": "python3"
  },
  "language_info": {
   "codemirror_mode": {
    "name": "ipython",
    "version": 3
   },
   "file_extension": ".py",
   "mimetype": "text/x-python",
   "name": "python",
   "nbconvert_exporter": "python",
   "pygments_lexer": "ipython3",
   "version": "3.11.8"
  }
 },
 "nbformat": 4,
 "nbformat_minor": 5
}
